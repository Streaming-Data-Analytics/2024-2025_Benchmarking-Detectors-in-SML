{
  "nbformat": 4,
  "nbformat_minor": 0,
  "metadata": {
    "colab": {
      "provenance": []
    },
    "kernelspec": {
      "name": "python3",
      "display_name": "Python 3"
    },
    "language_info": {
      "name": "python"
    }
  },
  "cells": [
    {
      "cell_type": "markdown",
      "source": [
        "# Evaluating Capymoa Drift Detectors\n",
        "\n",
        "This notebook evaluates the impact of a single Concept Drift Detector on a Streaming Machine Learning model on a specified dataset.  \n",
        "It measures performance in terms of accuracy, execution time, memory usage, and CPU utilization and saves them in a .csv file for benchmarking"
      ],
      "metadata": {
        "id": "lKAQ0AvVKReD"
      }
    },
    {
      "cell_type": "markdown",
      "source": [
        "### Install and import Libraries"
      ],
      "metadata": {
        "id": "OsbstRSEKKsP"
      }
    },
    {
      "cell_type": "code",
      "source": [
        "%%capture\n",
        "!pip install capymoa\n",
        "!pip install memory_profiler"
      ],
      "metadata": {
        "id": "gpR1mt3AUVWC"
      },
      "execution_count": null,
      "outputs": []
    },
    {
      "cell_type": "code",
      "execution_count": null,
      "metadata": {
        "id": "-pCuL9-FUNY5"
      },
      "outputs": [],
      "source": [
        "import numpy as np\n",
        "import pandas as pd\n",
        "import matplotlib.pyplot as plt\n",
        "\n",
        "import os\n",
        "import time\n",
        "import psutil\n",
        "from memory_profiler import memory_usage\n",
        "\n",
        "### CAPYMOA\n",
        "\n",
        "from capymoa.classifier import NaiveBayes, HoeffdingTree\n",
        "\n",
        "from capymoa.datasets import Electricity, Covtype,  Hyper100k, Sensor\n",
        "from capymoa.datasets import ElectricityTiny # For testing\n",
        "\n",
        "from capymoa.drift.detectors import ADWIN, STEPD, CUSUM, PageHinkley, DDM, HDDMAverage, HDDMWeighted\n",
        "\n",
        "from capymoa.drift.eval_detector import EvaluateDetector # Might remove if i don't know true values\n",
        "\n",
        "from capymoa.evaluation import ClassificationEvaluator, ClassificationWindowedEvaluator\n",
        "from capymoa.evaluation.results import PrequentialResults\n",
        "from capymoa.evaluation.visualization import plot_windowed_results\n",
        "\n"
      ]
    },
    {
      "cell_type": "code",
      "source": [
        "from google.colab import drive\n",
        "\n",
        "PATH = \"Uni/Magistrale/Poli/Streaming Data Analytics/project/\"\n",
        "\n",
        "drive.mount('/content/drive')\n",
        "\n",
        "os.chdir(f'/content/drive/MyDrive/{PATH}')\n",
        "os.getcwd()\n"
      ],
      "metadata": {
        "colab": {
          "base_uri": "https://localhost:8080/",
          "height": 72
        },
        "id": "pI7llRJa2Lja",
        "outputId": "1694f7d8-582e-412c-c5da-c5ddd2c6d4f4"
      },
      "execution_count": null,
      "outputs": [
        {
          "output_type": "stream",
          "name": "stdout",
          "text": [
            "Drive already mounted at /content/drive; to attempt to forcibly remount, call drive.mount(\"/content/drive\", force_remount=True).\n"
          ]
        },
        {
          "output_type": "execute_result",
          "data": {
            "text/plain": [
              "'/content/drive/MyDrive/Uni/Magistrale/Poli/Streaming Data Analytics/project'"
            ],
            "application/vnd.google.colaboratory.intrinsic+json": {
              "type": "string"
            }
          },
          "metadata": {},
          "execution_count": 28
        }
      ]
    },
    {
      "cell_type": "code",
      "source": [
        "%%capture\n",
        "# @title Select Parameters\n",
        "\n",
        "stream = \"Covtype\" # @param [\"Covtype\", \"Electricity\", \"Hyper100k\", \"Sensor\", \"ElectricityTiny\"]\n",
        "\n",
        "str_to_stream = {\n",
        "    \"Covtype\": Covtype(),\n",
        "    \"Electricity\": Electricity(),\n",
        "    \"Hyper100k\": Hyper100k(),\n",
        "    \"Sensor\": Sensor(),\n",
        "    \"ElectricityTiny\": ElectricityTiny()\n",
        "}\n",
        "\n",
        "stream = str_to_stream[stream]\n",
        "\n",
        "\n",
        "classifier = \"NaiveBayes\" # @param [\"NaiveBayes\", \"HoeffdingTree\"]\n",
        "\n",
        "str_to_classifier = {\n",
        "    \"NaiveBayes\": NaiveBayes(schema=stream.get_schema()),\n",
        "    \"HoeffdingTree\": HoeffdingTree(schema=stream.get_schema()),\n",
        "}\n",
        "\n",
        "classifier = str_to_classifier[classifier]\n",
        "\n",
        "detector = \"ADWIN\" # @param [\"ADWIN\", \"STEPD\", \"CUSUM\", \"PageHinkley\", \"DDM\", \"HDDMAverage\", \"HDDMWeighted\"]\n",
        "\n",
        "str_to_detector = {\n",
        "    \"ADWIN\": ADWIN(),\n",
        "    \"STEPD\": STEPD(),\n",
        "    \"CUSUM\": CUSUM(),\n",
        "    \"PageHinkley\": PageHinkley(),\n",
        "    \"DDM\": DDM(),\n",
        "    \"HDDMAverage\": HDDMAverage(),\n",
        "    \"HDDMWeighted\": HDDMWeighted(),\n",
        "}\n",
        "\n",
        "detector = str_to_detector[detector]\n",
        "\n",
        "\n",
        "WINDOW_SIZE = stream._length // 100 # 1% of dataset size\n",
        "\n"
      ],
      "metadata": {
        "id": "bnjyTjndOULJ",
        "cellView": "form"
      },
      "execution_count": null,
      "outputs": []
    },
    {
      "cell_type": "code",
      "source": [
        "def evaluate_detector(detector, stream, classifier):\n",
        "    i = 0\n",
        "    cumulative_evaluator = ClassificationEvaluator(schema=stream.get_schema())\n",
        "    windowed_evaluator = ClassificationWindowedEvaluator(schema=stream.get_schema(), window_size=WINDOW_SIZE)\n",
        "\n",
        "\n",
        "    while stream.has_more_instances():\n",
        "        i += 1\n",
        "\n",
        "        instance = stream.next_instance()\n",
        "\n",
        "        y = instance.y_index\n",
        "        y_pred = classifier.predict(instance)\n",
        "\n",
        "        cumulative_evaluator.update(y, y_pred)\n",
        "        windowed_evaluator.update(y, y_pred)\n",
        "\n",
        "        classifier.train(instance)\n",
        "\n",
        "        if detector != None:\n",
        "            detector.add_element(y)\n",
        "            if detector.detected_change():\n",
        "              # print(\"Change detected at index: \" + str(i))\n",
        "              classifier = NaiveBayes(schema=stream.get_schema())\n",
        "\n",
        "\n",
        "\n",
        "    results = PrequentialResults(learner=str(classifier),\n",
        "                                 stream=stream,\n",
        "                                 cumulative_evaluator=cumulative_evaluator,\n",
        "                                 windowed_evaluator=windowed_evaluator)\n",
        "    return results\n"
      ],
      "metadata": {
        "id": "Zw5uGkeXUSHY"
      },
      "execution_count": null,
      "outputs": []
    },
    {
      "cell_type": "code",
      "source": [
        "def benchmark_detector(detector, stream, classifier,filename = \"results.csv\"):\n",
        "\n",
        "    stream.restart()\n",
        "\n",
        "    process = psutil.Process(os.getpid())\n",
        "\n",
        "    start_time = time.time()\n",
        "    mem_usage, results = memory_usage((evaluate_detector, (detector, stream, classifier)), retval=True)\n",
        "    end_time = time.time()\n",
        "\n",
        "\n",
        "    execution_time = end_time - start_time\n",
        "    cpu_usage = process.cpu_percent(interval=1)\n",
        "    memory_usage_max = max(mem_usage)\n",
        "\n",
        "    results = pd.DataFrame([{\n",
        "        \"Dataset\": stream.__class__.__name__,\n",
        "        \"Classifier\": classifier.__class__.__name__,\n",
        "        \"Detector\": detector.__class__.__name__ if detector else \"None\",\n",
        "        \"Cumulative Accuracy\": results.cumulative.metrics_dict()[\"accuracy\"],\n",
        "        \"Cumulative F1-Score\": results.cumulative.metrics_dict()[\"f1_score\"],\n",
        "        \"Windowed Accuracy\": results.windowed.metrics_per_window()[\"accuracy\"].tolist(),\n",
        "        \"Windowed F1-Score\": results.windowed.metrics_per_window()[\"f1_score\"].tolist(),\n",
        "        \"Execution Time (s)\": execution_time,\n",
        "        \"CPU Usage (%)\": cpu_usage,\n",
        "        \"Memory Usage (MB)\": memory_usage_max,\n",
        "        \"Changes\": detector.detection_index if detector != None else \"\",\n",
        "        \"Warnings\": detector.warning_index if detector != None else \"\"\n",
        "    }])\n",
        "\n",
        "    results.to_csv(filename, mode=\"a\", header=not pd.io.common.file_exists(filename), index=False)\n",
        "    print(f\"Results saved to {filename}\")\n",
        "\n",
        "    return results\n",
        "\n",
        "benchmark_detector(detector, stream, classifier)"
      ],
      "metadata": {
        "colab": {
          "base_uri": "https://localhost:8080/",
          "height": 291
        },
        "id": "ImNzCWyinqBo",
        "outputId": "53899139-d9b0-499a-d65b-f763df0717de"
      },
      "execution_count": null,
      "outputs": [
        {
          "output_type": "stream",
          "name": "stdout",
          "text": [
            "Results saved to results.csv\n"
          ]
        },
        {
          "output_type": "execute_result",
          "data": {
            "text/plain": [
              "   Dataset  Classifier Detector  Cumulative Accuracy  Cumulative F1-Score  \\\n",
              "0  Covtype  NaiveBayes    ADWIN            84.172616            79.061521   \n",
              "\n",
              "                                   Windowed Accuracy  \\\n",
              "0  [73.16695352839932, 69.91394148020655, 73.2702...   \n",
              "\n",
              "                                   Windowed F1-Score  Execution Time (s)  \\\n",
              "0  [71.68308822177409, 69.1227936570825, 70.57333...           88.016449   \n",
              "\n",
              "   CPU Usage (%)  Memory Usage (MB)  \\\n",
              "0            0.0         839.199219   \n",
              "\n",
              "                                             Changes Warnings  \n",
              "0  [416, 640, 896, 928, 1184, 1216, 1696, 1728, 1...       []  "
            ],
            "text/html": [
              "\n",
              "  <div id=\"df-18dbbd2a-e35e-413c-9c8b-6012619b16af\" class=\"colab-df-container\">\n",
              "    <div>\n",
              "<style scoped>\n",
              "    .dataframe tbody tr th:only-of-type {\n",
              "        vertical-align: middle;\n",
              "    }\n",
              "\n",
              "    .dataframe tbody tr th {\n",
              "        vertical-align: top;\n",
              "    }\n",
              "\n",
              "    .dataframe thead th {\n",
              "        text-align: right;\n",
              "    }\n",
              "</style>\n",
              "<table border=\"1\" class=\"dataframe\">\n",
              "  <thead>\n",
              "    <tr style=\"text-align: right;\">\n",
              "      <th></th>\n",
              "      <th>Dataset</th>\n",
              "      <th>Classifier</th>\n",
              "      <th>Detector</th>\n",
              "      <th>Cumulative Accuracy</th>\n",
              "      <th>Cumulative F1-Score</th>\n",
              "      <th>Windowed Accuracy</th>\n",
              "      <th>Windowed F1-Score</th>\n",
              "      <th>Execution Time (s)</th>\n",
              "      <th>CPU Usage (%)</th>\n",
              "      <th>Memory Usage (MB)</th>\n",
              "      <th>Changes</th>\n",
              "      <th>Warnings</th>\n",
              "    </tr>\n",
              "  </thead>\n",
              "  <tbody>\n",
              "    <tr>\n",
              "      <th>0</th>\n",
              "      <td>Covtype</td>\n",
              "      <td>NaiveBayes</td>\n",
              "      <td>ADWIN</td>\n",
              "      <td>84.172616</td>\n",
              "      <td>79.061521</td>\n",
              "      <td>[73.16695352839932, 69.91394148020655, 73.2702...</td>\n",
              "      <td>[71.68308822177409, 69.1227936570825, 70.57333...</td>\n",
              "      <td>88.016449</td>\n",
              "      <td>0.0</td>\n",
              "      <td>839.199219</td>\n",
              "      <td>[416, 640, 896, 928, 1184, 1216, 1696, 1728, 1...</td>\n",
              "      <td>[]</td>\n",
              "    </tr>\n",
              "  </tbody>\n",
              "</table>\n",
              "</div>\n",
              "    <div class=\"colab-df-buttons\">\n",
              "\n",
              "  <div class=\"colab-df-container\">\n",
              "    <button class=\"colab-df-convert\" onclick=\"convertToInteractive('df-18dbbd2a-e35e-413c-9c8b-6012619b16af')\"\n",
              "            title=\"Convert this dataframe to an interactive table.\"\n",
              "            style=\"display:none;\">\n",
              "\n",
              "  <svg xmlns=\"http://www.w3.org/2000/svg\" height=\"24px\" viewBox=\"0 -960 960 960\">\n",
              "    <path d=\"M120-120v-720h720v720H120Zm60-500h600v-160H180v160Zm220 220h160v-160H400v160Zm0 220h160v-160H400v160ZM180-400h160v-160H180v160Zm440 0h160v-160H620v160ZM180-180h160v-160H180v160Zm440 0h160v-160H620v160Z\"/>\n",
              "  </svg>\n",
              "    </button>\n",
              "\n",
              "  <style>\n",
              "    .colab-df-container {\n",
              "      display:flex;\n",
              "      gap: 12px;\n",
              "    }\n",
              "\n",
              "    .colab-df-convert {\n",
              "      background-color: #E8F0FE;\n",
              "      border: none;\n",
              "      border-radius: 50%;\n",
              "      cursor: pointer;\n",
              "      display: none;\n",
              "      fill: #1967D2;\n",
              "      height: 32px;\n",
              "      padding: 0 0 0 0;\n",
              "      width: 32px;\n",
              "    }\n",
              "\n",
              "    .colab-df-convert:hover {\n",
              "      background-color: #E2EBFA;\n",
              "      box-shadow: 0px 1px 2px rgba(60, 64, 67, 0.3), 0px 1px 3px 1px rgba(60, 64, 67, 0.15);\n",
              "      fill: #174EA6;\n",
              "    }\n",
              "\n",
              "    .colab-df-buttons div {\n",
              "      margin-bottom: 4px;\n",
              "    }\n",
              "\n",
              "    [theme=dark] .colab-df-convert {\n",
              "      background-color: #3B4455;\n",
              "      fill: #D2E3FC;\n",
              "    }\n",
              "\n",
              "    [theme=dark] .colab-df-convert:hover {\n",
              "      background-color: #434B5C;\n",
              "      box-shadow: 0px 1px 3px 1px rgba(0, 0, 0, 0.15);\n",
              "      filter: drop-shadow(0px 1px 2px rgba(0, 0, 0, 0.3));\n",
              "      fill: #FFFFFF;\n",
              "    }\n",
              "  </style>\n",
              "\n",
              "    <script>\n",
              "      const buttonEl =\n",
              "        document.querySelector('#df-18dbbd2a-e35e-413c-9c8b-6012619b16af button.colab-df-convert');\n",
              "      buttonEl.style.display =\n",
              "        google.colab.kernel.accessAllowed ? 'block' : 'none';\n",
              "\n",
              "      async function convertToInteractive(key) {\n",
              "        const element = document.querySelector('#df-18dbbd2a-e35e-413c-9c8b-6012619b16af');\n",
              "        const dataTable =\n",
              "          await google.colab.kernel.invokeFunction('convertToInteractive',\n",
              "                                                    [key], {});\n",
              "        if (!dataTable) return;\n",
              "\n",
              "        const docLinkHtml = 'Like what you see? Visit the ' +\n",
              "          '<a target=\"_blank\" href=https://colab.research.google.com/notebooks/data_table.ipynb>data table notebook</a>'\n",
              "          + ' to learn more about interactive tables.';\n",
              "        element.innerHTML = '';\n",
              "        dataTable['output_type'] = 'display_data';\n",
              "        await google.colab.output.renderOutput(dataTable, element);\n",
              "        const docLink = document.createElement('div');\n",
              "        docLink.innerHTML = docLinkHtml;\n",
              "        element.appendChild(docLink);\n",
              "      }\n",
              "    </script>\n",
              "  </div>\n",
              "\n",
              "\n",
              "    </div>\n",
              "  </div>\n"
            ],
            "application/vnd.google.colaboratory.intrinsic+json": {
              "type": "dataframe",
              "summary": "{\n  \"name\": \"benchmark_detector(detector, stream, classifier)\",\n  \"rows\": 1,\n  \"fields\": [\n    {\n      \"column\": \"Dataset\",\n      \"properties\": {\n        \"dtype\": \"string\",\n        \"num_unique_values\": 1,\n        \"samples\": [\n          \"Covtype\"\n        ],\n        \"semantic_type\": \"\",\n        \"description\": \"\"\n      }\n    },\n    {\n      \"column\": \"Classifier\",\n      \"properties\": {\n        \"dtype\": \"string\",\n        \"num_unique_values\": 1,\n        \"samples\": [\n          \"NaiveBayes\"\n        ],\n        \"semantic_type\": \"\",\n        \"description\": \"\"\n      }\n    },\n    {\n      \"column\": \"Detector\",\n      \"properties\": {\n        \"dtype\": \"string\",\n        \"num_unique_values\": 1,\n        \"samples\": [\n          \"ADWIN\"\n        ],\n        \"semantic_type\": \"\",\n        \"description\": \"\"\n      }\n    },\n    {\n      \"column\": \"Cumulative Accuracy\",\n      \"properties\": {\n        \"dtype\": \"number\",\n        \"std\": null,\n        \"min\": 84.17261605612276,\n        \"max\": 84.17261605612276,\n        \"num_unique_values\": 1,\n        \"samples\": [\n          84.17261605612276\n        ],\n        \"semantic_type\": \"\",\n        \"description\": \"\"\n      }\n    },\n    {\n      \"column\": \"Cumulative F1-Score\",\n      \"properties\": {\n        \"dtype\": \"number\",\n        \"std\": null,\n        \"min\": 79.06152074332708,\n        \"max\": 79.06152074332708,\n        \"num_unique_values\": 1,\n        \"samples\": [\n          79.06152074332708\n        ],\n        \"semantic_type\": \"\",\n        \"description\": \"\"\n      }\n    },\n    {\n      \"column\": \"Windowed Accuracy\",\n      \"properties\": {\n        \"dtype\": \"object\",\n        \"semantic_type\": \"\",\n        \"description\": \"\"\n      }\n    },\n    {\n      \"column\": \"Windowed F1-Score\",\n      \"properties\": {\n        \"dtype\": \"object\",\n        \"semantic_type\": \"\",\n        \"description\": \"\"\n      }\n    },\n    {\n      \"column\": \"Execution Time (s)\",\n      \"properties\": {\n        \"dtype\": \"number\",\n        \"std\": null,\n        \"min\": 88.01644897460938,\n        \"max\": 88.01644897460938,\n        \"num_unique_values\": 1,\n        \"samples\": [\n          88.01644897460938\n        ],\n        \"semantic_type\": \"\",\n        \"description\": \"\"\n      }\n    },\n    {\n      \"column\": \"CPU Usage (%)\",\n      \"properties\": {\n        \"dtype\": \"number\",\n        \"std\": null,\n        \"min\": 0.0,\n        \"max\": 0.0,\n        \"num_unique_values\": 1,\n        \"samples\": [\n          0.0\n        ],\n        \"semantic_type\": \"\",\n        \"description\": \"\"\n      }\n    },\n    {\n      \"column\": \"Memory Usage (MB)\",\n      \"properties\": {\n        \"dtype\": \"number\",\n        \"std\": null,\n        \"min\": 839.19921875,\n        \"max\": 839.19921875,\n        \"num_unique_values\": 1,\n        \"samples\": [\n          839.19921875\n        ],\n        \"semantic_type\": \"\",\n        \"description\": \"\"\n      }\n    },\n    {\n      \"column\": \"Changes\",\n      \"properties\": {\n        \"dtype\": \"object\",\n        \"semantic_type\": \"\",\n        \"description\": \"\"\n      }\n    },\n    {\n      \"column\": \"Warnings\",\n      \"properties\": {\n        \"dtype\": \"object\",\n        \"semantic_type\": \"\",\n        \"description\": \"\"\n      }\n    }\n  ]\n}"
            }
          },
          "metadata": {},
          "execution_count": 39
        }
      ]
    }
  ]
}